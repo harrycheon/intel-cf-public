{
 "cells": [
  {
   "cell_type": "code",
   "execution_count": null,
   "metadata": {},
   "outputs": [],
   "source": [
    "import os\n",
    "import pandas as pd\n",
    "from pathlib import Path\n",
    "\n",
    "from feat_build import main\n",
    "from model_build import train\n",
    "\n",
    "inv_dir = Path(os.getcwd())\n",
    "proj_dir = inv_dir.parent\n",
    "\n",
    "tbl_name = 'sample_table_name'\n",
    "\n",
    "if 'feat.parquet' not in os.listdir(inv_dir / 'data' / 'out'):\n",
    "    main.generate_features(tbl_name, inv_dir / 'data')\n",
    "\n",
    "feat = pd.read_parquet('data/out/feat.parquet')"
   ]
  },
  {
   "cell_type": "code",
   "execution_count": null,
   "metadata": {},
   "outputs": [],
   "source": [
    "test_mse, feat_dict, r2 = train.train(feat)"
   ]
  }
 ],
 "metadata": {
  "kernelspec": {
   "display_name": "base",
   "language": "python",
   "name": "base"
  },
  "language_info": {
   "codemirror_mode": {
    "name": "ipython",
    "version": 3
   },
   "file_extension": ".py",
   "mimetype": "text/x-python",
   "name": "python",
   "nbconvert_exporter": "python",
   "pygments_lexer": "ipython3",
   "version": "3.10.9"
  },
  "orig_nbformat": 4
 },
 "nbformat": 4,
 "nbformat_minor": 2
}
